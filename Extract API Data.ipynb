{
 "cells": [
  {
   "cell_type": "markdown",
   "metadata": {},
   "source": [
    "<center>\n",
    "    <img src=\"https://gitlab.com/ibm/skills-network/courses/placeholder101/-/raw/master/labs/module%201/images/IDSNlogo.png\" width=\"300\" alt=\"cognitiveclass.ai logo\"  />\n",
    "</center>\n"
   ]
  },
  {
   "cell_type": "markdown",
   "metadata": {},
   "source": [
    "# Peer Review Assignment - Data Engineer - Extract API Data\n"
   ]
  },
  {
   "cell_type": "markdown",
   "metadata": {},
   "source": [
    "Estimated time needed: **20** minutes\n"
   ]
  },
  {
   "cell_type": "markdown",
   "metadata": {},
   "source": [
    "## Objectives\n",
    "\n",
    "In this part you will:\n",
    "\n",
    "*   Collect exchange rate data using an API\n",
    "*   Store the data as a CSV\n"
   ]
  },
  {
   "cell_type": "markdown",
   "metadata": {},
   "source": [
    "For this lab, we are going to be using Python and several Python libraries. Some of these libraries might be installed in your lab environment or in SN Labs. Others may need to be installed by you. The cells below will install these libraries when executed.\n"
   ]
  },
  {
   "cell_type": "code",
   "execution_count": null,
   "metadata": {},
   "outputs": [],
   "source": [
    "#!pip install pandas\n",
    "#!pip install requests"
   ]
  },
  {
   "cell_type": "markdown",
   "metadata": {},
   "source": [
    "## Imports\n",
    "\n",
    "Import any additional libraries you may need here.\n"
   ]
  },
  {
   "cell_type": "code",
   "execution_count": 13,
   "metadata": {},
   "outputs": [],
   "source": [
    "import requests\n",
    "import pandas as pd"
   ]
  },
  {
   "cell_type": "markdown",
   "metadata": {},
   "source": [
    "## Extract Data Using an API\n"
   ]
  },
  {
   "cell_type": "markdown",
   "metadata": {},
   "source": [
    "Using ExchangeRate-API we will extract currency exchange rate data. Use the below steps to get the access key and to get the data.\n",
    "\n",
    "1.  Open the url : [https://exchangeratesapi.io/](https://exchangeratesapi.io/?utm_medium=Exinfluencer&utm_source=Exinfluencer&utm_content=000026UJ&utm_term=10006555&utm_id=NA-SkillsNetwork-Channel-SkillsNetworkCoursesIBMDeveloperSkillsNetworkPY0221ENSkillsNetwork23455645-2021-01-01) and create a free account.\n",
    "2.  Once the account is created. You will get the Get the Free API key option on the top as shown below:\n",
    "\n",
    "<img src=\"https://cf-courses-data.s3.us.cloud-object-storage.appdomain.cloud/IBMDeveloperSkillsNetwork-PY0221EN-SkillsNetwork/labs/module%206/Final%20Assignment/Images/getapi.png\"/>\n",
    "\n",
    "3.  Copy the API key and use in the url in Question 1.\n"
   ]
  },
  {
   "cell_type": "markdown",
   "metadata": {},
   "source": [
    "### Call the API\n",
    "\n",
    "<b> Question 1</b> Using the `requests` library call the endpoint given above and save the text, remember the first few characters of the output:\n"
   ]
  },
  {
   "cell_type": "code",
   "execution_count": 94,
   "metadata": {},
   "outputs": [
    {
     "data": {
      "text/plain": [
       "'{\"success\":true,\"timestamp\":1638453844,\"base\":\"EUR\",\"date\":\"2021-12-02\",\"rates\":{\"AED\":4.164346,\"AFN\":109.070208,\"ALL\":121.184629,\"AMD\":553.83361,\"ANG\":2.044083,\"AOA\":640.722739,\"ARS\":114.564967,\"AUD\":1.598224,\"AWG\":2.040735,\"AZN\":1.931623,\"BAM\":1.956066,\"BBD\":2.290017,\"BDT\":97.304963,\"BGN\":1.956258,\"BHD\":0.427402,\"BIF\":2261.815007,\"BMD\":1.133742,\"BND\":1.550415,\"BOB\":7.831384,\"BRL\":6.383532,\"BSD\":1.134157,\"BTC\":2.0074432e-5,\"BTN\":84.991959,\"BWP\":13.265035,\"BYN\":2.882648,\"BYR\":22221.340423,\"BZD\":2.286116,\"CAD\":1.45454,\"CDF\":2267.483726,\"CHF\":1.041348,\"CLF\":0.034498,\"CLP\":952.287032,\"CNY\":7.228764,\"COP\":4492.338739,\"CRC\":712.728609,\"CUC\":1.133742,\"CUP\":30.044159,\"CVE\":110.82318,\"CZK\":25.40531,\"DJF\":201.904373,\"DKK\":7.43619,\"DOP\":64.054513,\"DZD\":157.300586,\"EGP\":17.809277,\"ERN\":17.00648,\"ETB\":54.75981,\"EUR\":1,\"FJD\":2.416909,\"FKP\":0.84513,\"GBP\":0.851548,\"GEL\":3.542961,\"GGP\":0.84513,\"GHS\":6.943738,\"GIP\":0.84513,\"GMD\":59.29562,\"GNF\":10780.501356,\"GTQ\":8.774259,\"GYD\":237.202818,\"HKD\":8.834967,\"HNL\":27.371304,\"HRK\":7.527824,\"HTG\":112.130536,\"HUF\":362.122842,\"IDR\":16351.22189,\"ILS\":3.585907,\"IMP\":0.84513,\"INR\":85.060967,\"IQD\":1654.738941,\"IRR\":47900.593431,\"ISK\":146.627157,\"JEP\":0.84513,\"JMD\":176.440411,\"JOD\":0.803869,\"JPY\":127.832233,\"KES\":127.661358,\"KGS\":96.129627,\"KHR\":4616.03865,\"KMF\":492.489486,\"KPW\":1020.36807,\"KRW\":1333.972186,\"KWD\":0.342979,\"KYD\":0.945131,\"KZT\":496.869979,\"LAK\":12310.903269,\"LBP\":1736.892321,\"LKR\":229.666775,\"LRD\":161.160999,\"LSL\":17.890655,\"LTL\":3.347645,\"LVL\":0.685789,\"LYD\":5.209533,\"MAD\":10.43976,\"MDL\":20.136631,\"MGA\":4517.635035,\"MKD\":61.622439,\"MMK\":2024.697126,\"MNT\":3240.482081,\"MOP\":9.102859,\"MRO\":404.745648,\"MUR\":48.716939,\"MVR\":17.516163,\"MWK\":925.926106,\"MXN\":24.202225,\"MYR\":4.784097,\"MZN\":72.366467,\"NAD\":17.890649,\"NGN\":466.126332,\"NIO\":39.956528,\"NOK\":10.316246,\"NPR\":135.986814,\"NZD\":1.666141,\"OMR\":0.436487,\"PAB\":1.134157,\"PEN\":4.614638,\"PGK\":3.982251,\"PHP\":57.328812,\"PKR\":200.178696,\"PLN\":4.592731,\"PYG\":7747.871953,\"QAR\":4.127954,\"RON\":4.950372,\"RSD\":117.580715,\"RUB\":83.822638,\"RWF\":1139.410568,\"SAR\":4.252839,\"SBD\":9.165307,\"SCR\":15.020703,\"SDG\":496.011215,\"SEK\":10.251226,\"SGD\":1.550409,\"SHP\":1.561619,\"SLL\":12615.145226,\"SOS\":662.105051,\"SRD\":24.357876,\"STD\":23466.167451,\"SVC\":9.924373,\"SYP\":1424.868127,\"SZL\":17.97887,\"THB\":38.399675,\"TJS\":12.804446,\"TMT\":3.968097,\"TND\":3.268007,\"TOP\":2.58941,\"TRY\":15.266565,\"TTD\":7.696465,\"TWD\":31.472903,\"TZS\":2611.961014,\"UAH\":30.947736,\"UGX\":4043.188069,\"USD\":1.133742,\"UYU\":50.032922,\"UZS\":12203.623146,\"VEF\":242428273637.75003,\"VND\":25775.621149,\"VUV\":126.2077,\"WST\":2.906507,\"XAF\":656.047767,\"XAG\":0.050707,\"XAU\":0.000638,\"XCD\":3.063994,\"XDR\":0.810412,\"XOF\":656.036193,\"XPF\":119.722312,\"YER\":283.71886,\"ZAR\":17.986985,\"ZMK\":10205.034645,\"ZMW\":20.216397,\"ZWL\":365.064416}}'"
      ]
     },
     "execution_count": 94,
     "metadata": {},
     "output_type": "execute_result"
    }
   ],
   "source": [
    "# Write your code here\n",
    "url = \"http://api.exchangeratesapi.io/v1/latest?base=EUR&access_key=be14baebf61a03c1aad39ed5a508b1c1\"  #Make sure to change ******* to your API key.\n",
    "data  = requests.get(url).text\n",
    "data"
   ]
  },
  {
   "cell_type": "markdown",
   "metadata": {},
   "source": [
    "### Save as DataFrame\n",
    "\n",
    "<b> Question 2</b>  Using the data gathered turn it into a `pandas` dataframe. The dataframe should have the Currency as the index and `Rate` as their columns. Make sure to drop unnecessary columns.\n"
   ]
  },
  {
   "cell_type": "code",
   "execution_count": 96,
   "metadata": {},
   "outputs": [
    {
     "data": {
      "text/html": [
       "<div>\n",
       "<style scoped>\n",
       "    .dataframe tbody tr th:only-of-type {\n",
       "        vertical-align: middle;\n",
       "    }\n",
       "\n",
       "    .dataframe tbody tr th {\n",
       "        vertical-align: top;\n",
       "    }\n",
       "\n",
       "    .dataframe thead th {\n",
       "        text-align: right;\n",
       "    }\n",
       "</style>\n",
       "<table border=\"1\" class=\"dataframe\">\n",
       "  <thead>\n",
       "    <tr style=\"text-align: right;\">\n",
       "      <th></th>\n",
       "      <th>success</th>\n",
       "      <th>timestamp</th>\n",
       "      <th>base</th>\n",
       "      <th>date</th>\n",
       "      <th>rates</th>\n",
       "    </tr>\n",
       "  </thead>\n",
       "  <tbody>\n",
       "    <tr>\n",
       "      <th>AED</th>\n",
       "      <td>True</td>\n",
       "      <td>2021-12-02 14:04:04</td>\n",
       "      <td>EUR</td>\n",
       "      <td>2021-12-02</td>\n",
       "      <td>4.164346</td>\n",
       "    </tr>\n",
       "    <tr>\n",
       "      <th>AFN</th>\n",
       "      <td>True</td>\n",
       "      <td>2021-12-02 14:04:04</td>\n",
       "      <td>EUR</td>\n",
       "      <td>2021-12-02</td>\n",
       "      <td>109.070208</td>\n",
       "    </tr>\n",
       "    <tr>\n",
       "      <th>ALL</th>\n",
       "      <td>True</td>\n",
       "      <td>2021-12-02 14:04:04</td>\n",
       "      <td>EUR</td>\n",
       "      <td>2021-12-02</td>\n",
       "      <td>121.184629</td>\n",
       "    </tr>\n",
       "    <tr>\n",
       "      <th>AMD</th>\n",
       "      <td>True</td>\n",
       "      <td>2021-12-02 14:04:04</td>\n",
       "      <td>EUR</td>\n",
       "      <td>2021-12-02</td>\n",
       "      <td>553.833610</td>\n",
       "    </tr>\n",
       "    <tr>\n",
       "      <th>ANG</th>\n",
       "      <td>True</td>\n",
       "      <td>2021-12-02 14:04:04</td>\n",
       "      <td>EUR</td>\n",
       "      <td>2021-12-02</td>\n",
       "      <td>2.044083</td>\n",
       "    </tr>\n",
       "    <tr>\n",
       "      <th>...</th>\n",
       "      <td>...</td>\n",
       "      <td>...</td>\n",
       "      <td>...</td>\n",
       "      <td>...</td>\n",
       "      <td>...</td>\n",
       "    </tr>\n",
       "    <tr>\n",
       "      <th>YER</th>\n",
       "      <td>True</td>\n",
       "      <td>2021-12-02 14:04:04</td>\n",
       "      <td>EUR</td>\n",
       "      <td>2021-12-02</td>\n",
       "      <td>283.718860</td>\n",
       "    </tr>\n",
       "    <tr>\n",
       "      <th>ZAR</th>\n",
       "      <td>True</td>\n",
       "      <td>2021-12-02 14:04:04</td>\n",
       "      <td>EUR</td>\n",
       "      <td>2021-12-02</td>\n",
       "      <td>17.986985</td>\n",
       "    </tr>\n",
       "    <tr>\n",
       "      <th>ZMK</th>\n",
       "      <td>True</td>\n",
       "      <td>2021-12-02 14:04:04</td>\n",
       "      <td>EUR</td>\n",
       "      <td>2021-12-02</td>\n",
       "      <td>10205.034645</td>\n",
       "    </tr>\n",
       "    <tr>\n",
       "      <th>ZMW</th>\n",
       "      <td>True</td>\n",
       "      <td>2021-12-02 14:04:04</td>\n",
       "      <td>EUR</td>\n",
       "      <td>2021-12-02</td>\n",
       "      <td>20.216397</td>\n",
       "    </tr>\n",
       "    <tr>\n",
       "      <th>ZWL</th>\n",
       "      <td>True</td>\n",
       "      <td>2021-12-02 14:04:04</td>\n",
       "      <td>EUR</td>\n",
       "      <td>2021-12-02</td>\n",
       "      <td>365.064416</td>\n",
       "    </tr>\n",
       "  </tbody>\n",
       "</table>\n",
       "<p>168 rows × 5 columns</p>\n",
       "</div>"
      ],
      "text/plain": [
       "     success           timestamp base       date         rates\n",
       "AED     True 2021-12-02 14:04:04  EUR 2021-12-02      4.164346\n",
       "AFN     True 2021-12-02 14:04:04  EUR 2021-12-02    109.070208\n",
       "ALL     True 2021-12-02 14:04:04  EUR 2021-12-02    121.184629\n",
       "AMD     True 2021-12-02 14:04:04  EUR 2021-12-02    553.833610\n",
       "ANG     True 2021-12-02 14:04:04  EUR 2021-12-02      2.044083\n",
       "..       ...                 ...  ...        ...           ...\n",
       "YER     True 2021-12-02 14:04:04  EUR 2021-12-02    283.718860\n",
       "ZAR     True 2021-12-02 14:04:04  EUR 2021-12-02     17.986985\n",
       "ZMK     True 2021-12-02 14:04:04  EUR 2021-12-02  10205.034645\n",
       "ZMW     True 2021-12-02 14:04:04  EUR 2021-12-02     20.216397\n",
       "ZWL     True 2021-12-02 14:04:04  EUR 2021-12-02    365.064416\n",
       "\n",
       "[168 rows x 5 columns]"
      ]
     },
     "execution_count": 96,
     "metadata": {},
     "output_type": "execute_result"
    }
   ],
   "source": [
    "# Turn the data into a dataframe\n",
    "data_json = pd.read_json(data)\n",
    "df = pd.DataFrame(data_json)\n",
    "df"
   ]
  },
  {
   "cell_type": "code",
   "execution_count": 103,
   "metadata": {},
   "outputs": [
    {
     "data": {
      "text/html": [
       "<div>\n",
       "<style scoped>\n",
       "    .dataframe tbody tr th:only-of-type {\n",
       "        vertical-align: middle;\n",
       "    }\n",
       "\n",
       "    .dataframe tbody tr th {\n",
       "        vertical-align: top;\n",
       "    }\n",
       "\n",
       "    .dataframe thead th {\n",
       "        text-align: right;\n",
       "    }\n",
       "</style>\n",
       "<table border=\"1\" class=\"dataframe\">\n",
       "  <thead>\n",
       "    <tr style=\"text-align: right;\">\n",
       "      <th></th>\n",
       "      <th>Rates</th>\n",
       "    </tr>\n",
       "  </thead>\n",
       "  <tbody>\n",
       "    <tr>\n",
       "      <th>AED</th>\n",
       "      <td>4.164346</td>\n",
       "    </tr>\n",
       "    <tr>\n",
       "      <th>AFN</th>\n",
       "      <td>109.070208</td>\n",
       "    </tr>\n",
       "    <tr>\n",
       "      <th>ALL</th>\n",
       "      <td>121.184629</td>\n",
       "    </tr>\n",
       "    <tr>\n",
       "      <th>AMD</th>\n",
       "      <td>553.833610</td>\n",
       "    </tr>\n",
       "    <tr>\n",
       "      <th>ANG</th>\n",
       "      <td>2.044083</td>\n",
       "    </tr>\n",
       "    <tr>\n",
       "      <th>...</th>\n",
       "      <td>...</td>\n",
       "    </tr>\n",
       "    <tr>\n",
       "      <th>YER</th>\n",
       "      <td>283.718860</td>\n",
       "    </tr>\n",
       "    <tr>\n",
       "      <th>ZAR</th>\n",
       "      <td>17.986985</td>\n",
       "    </tr>\n",
       "    <tr>\n",
       "      <th>ZMK</th>\n",
       "      <td>10205.034645</td>\n",
       "    </tr>\n",
       "    <tr>\n",
       "      <th>ZMW</th>\n",
       "      <td>20.216397</td>\n",
       "    </tr>\n",
       "    <tr>\n",
       "      <th>ZWL</th>\n",
       "      <td>365.064416</td>\n",
       "    </tr>\n",
       "  </tbody>\n",
       "</table>\n",
       "<p>168 rows × 1 columns</p>\n",
       "</div>"
      ],
      "text/plain": [
       "            Rates\n",
       "AED      4.164346\n",
       "AFN    109.070208\n",
       "ALL    121.184629\n",
       "AMD    553.833610\n",
       "ANG      2.044083\n",
       "..            ...\n",
       "YER    283.718860\n",
       "ZAR     17.986985\n",
       "ZMK  10205.034645\n",
       "ZMW     20.216397\n",
       "ZWL    365.064416\n",
       "\n",
       "[168 rows x 1 columns]"
      ]
     },
     "execution_count": 103,
     "metadata": {},
     "output_type": "execute_result"
    }
   ],
   "source": [
    "# Drop unnescessary column\n",
    "df_remove_col = df.drop(columns=['success','timestamp','base','date'])\n",
    "df_rates = df_remove_col.rename(columns={'rates':'Rates'})\n",
    "df_rates"
   ]
  },
  {
   "cell_type": "markdown",
   "metadata": {},
   "source": [
    "### Load the Data\n",
    "\n",
    "Using the dataframe save it as a CSV names `exchange_rates_1.csv`.\n"
   ]
  },
  {
   "cell_type": "code",
   "execution_count": 104,
   "metadata": {},
   "outputs": [],
   "source": [
    "# Save the Dataframe\n",
    "df_rates.to_csv('exchange_rates_1.csv')"
   ]
  },
  {
   "cell_type": "markdown",
   "metadata": {},
   "source": [
    "Your CSV should be in this format with more currencies\n",
    "\n",
    "|     | Rates      |\n",
    "| --- | ---------- |\n",
    "| AED | 4.398618   |\n",
    "| AFN | 92.917693  |\n",
    "| ALL | 123.099093 |\n",
    "| AMD | 621.935674 |\n",
    "| ANG | 2.149648   |\n"
   ]
  },
  {
   "cell_type": "markdown",
   "metadata": {},
   "source": [
    "## Authors\n"
   ]
  },
  {
   "cell_type": "markdown",
   "metadata": {},
   "source": [
    "Ramesh Sannareddy, Joseph Santarcangelo and Azim Hirjani\n"
   ]
  },
  {
   "cell_type": "markdown",
   "metadata": {},
   "source": [
    "### Other Contributors\n"
   ]
  },
  {
   "cell_type": "markdown",
   "metadata": {},
   "source": [
    "Rav Ahuja\n"
   ]
  },
  {
   "cell_type": "markdown",
   "metadata": {},
   "source": [
    "## Change Log\n"
   ]
  },
  {
   "cell_type": "markdown",
   "metadata": {},
   "source": [
    "| Date (YYYY-MM-DD) | Version | Changed By        | Change Description                 |\n",
    "| ----------------- | ------- | ----------------- | ---------------------------------- |\n",
    "| 2021-04-15        | 0.2     | Malika            | Updated the lab from USD to EUR    |\n",
    "| 2020-11-25        | 0.1     | Ramesh Sannareddy | Created initial version of the lab |\n"
   ]
  },
  {
   "cell_type": "markdown",
   "metadata": {},
   "source": [
    "Copyright © 2020 IBM Corporation. This notebook and its source code are released under the terms of the [MIT License](https://cognitiveclass.ai/mit-license?utm_medium=Exinfluencer&utm_source=Exinfluencer&utm_content=000026UJ&utm_term=10006555&utm_id=NA-SkillsNetwork-Channel-SkillsNetworkCoursesIBMDeveloperSkillsNetworkPY0221ENSkillsNetwork23455645-2021-01-01&cm_mmc=Email_Newsletter-\\_-Developer_Ed%2BTech-\\_-WW_WW-\\_-SkillsNetwork-Courses-IBM-DA0321EN-SkillsNetwork-21426264&cm_mmca1=000026UJ&cm_mmca2=10006555&cm_mmca3=M12345678&cvosrc=email.Newsletter.M12345678&cvo_campaign=000026UJ).\n"
   ]
  }
 ],
 "metadata": {
  "kernelspec": {
   "display_name": "Python",
   "language": "python",
   "name": "conda-env-python-py"
  },
  "language_info": {
   "codemirror_mode": {
    "name": "ipython",
    "version": 3
   },
   "file_extension": ".py",
   "mimetype": "text/x-python",
   "name": "python",
   "nbconvert_exporter": "python",
   "pygments_lexer": "ipython3",
   "version": "3.7.10"
  }
 },
 "nbformat": 4,
 "nbformat_minor": 4
}
